{
 "cells": [
  {
   "metadata": {},
   "cell_type": "markdown",
   "source": [
    "## First use the HPLC_molecule_creation script if it is the fist analysis load\n",
    "load the molecules from the path"
   ],
   "id": "8f20ad97e01416dd"
  },
  {
   "cell_type": "code",
   "id": "8e9c9d93",
   "metadata": {
    "ExecuteTime": {
     "end_time": "2025-02-08T13:56:06.617384Z",
     "start_time": "2025-02-08T13:56:06.603530Z"
    }
   },
   "source": [
    "from chromatopy import ChromAnalyzer\n",
    "import os\n",
    "import json\n",
    "from chromatopy import Molecule\n",
    "\n",
    "# create list to add molecules to\n",
    "molecules = []\n",
    "\n",
    "# define path to the calibration molecules\n",
    "molecule_path = \"data/calib_molecules/\"\n",
    "\n",
    "# loop over all the files in the calibration molecules\n",
    "for molecule_name in os.listdir(\"data/calib_molecules/\"):\n",
    "    full_path = os.path.join(molecule_path, molecule_name)\n",
    "\n",
    "    # read the molecule data and reconstruct the molecule object\n",
    "    with open(full_path, \"r\") as f:\n",
    "        molecule_dict = json.load(f)\n",
    "\n",
    "        # append the molecule to the list\n",
    "        molecules.append(Molecule(**molecule_dict))"
   ],
   "outputs": [],
   "execution_count": 10
  },
  {
   "metadata": {},
   "cell_type": "markdown",
   "source": "# If you have a negative control otherwise can skip to time samples ",
   "id": "7368c77babc3197"
  },
  {
   "cell_type": "code",
   "id": "5174339f",
   "metadata": {},
   "source": [
    "timecourse_path = \"Data/MjNK/Negative control\"\n",
    "\n",
    "# need to define the initial concentrations of the molecules\n",
    "# therefore create a dictionary with the molecule ids as key and the initial concentration as value\n",
    "init_conc = {\n",
    "    \"Ado\": 5,\n",
    "    \"ADP\": 0,\n",
    "    \"AMP\": 0,\n",
    "    \"ATP\": 5,\n",
    "}\n",
    "\n",
    "# read the timecourse data\n",
    "analyzer = ChromAnalyzer.read_agilent(\n",
    "    path=timecourse_path, ph=8, temperature=37, mode=\"timecourse\"\n",
    ")\n",
    "\n",
    "# add the calibration molecules to the timecourse data\n",
    "for molecule in molecules:\n",
    "    analyzer.add_molecule(\n",
    "        molecule=molecule,\n",
    "        init_conc=init_conc[molecule.id],\n",
    "    )\n",
    "\n",
    "analyzer.visualize_all(assigned_only=True)"
   ],
   "outputs": [],
   "execution_count": null
  },
  {
   "cell_type": "code",
   "id": "3ad7c6a4",
   "metadata": {},
   "source": [
    "enzymeml_doc = analyzer.to_enzymeml(\n",
    "    name=\"negative control\",\n",
    ")"
   ],
   "outputs": [],
   "execution_count": null
  },
  {
   "cell_type": "code",
   "id": "d60fdc5b",
   "metadata": {},
   "source": [
    "import matplotlib.pyplot as plt\n",
    "\n",
    "for measurement in enzymeml_doc.measurements:\n",
    "    for molecule in measurement.species_data:\n",
    "        plt.scatter(molecule.time, molecule.data, label=molecule.species_id)\n",
    "plt.xlabel(\"time [min]\")\n",
    "plt.ylabel(\"Concentration [mM]\")\n",
    "plt.legend()"
   ],
   "outputs": [],
   "execution_count": null
  },
  {
   "cell_type": "markdown",
   "id": "4e844017",
   "metadata": {},
   "source": [
    "## Timecourse data analysis \n",
    "\n"
   ]
  },
  {
   "metadata": {
    "ExecuteTime": {
     "end_time": "2025-02-08T13:57:03.470447Z",
     "start_time": "2025-02-08T13:57:03.043914Z"
    }
   },
   "cell_type": "code",
   "outputs": [
    {
     "name": "stdout",
     "output_type": "stream",
     "text": [
      " Loaded 8 chromatograms.\n",
      "🎯 Assigned Adenosine to 8 peaks\n",
      "🎯 Assigned Adenosine-5'-diphosphate to 8 peaks\n",
      "🎯 Assigned Adenosine Phosphate to 8 peaks\n",
      "🎯 Assigned Adenosine Triphosphate to 8 peaks\n",
      " Loaded 8 chromatograms.\n",
      "🎯 Assigned Adenosine to 8 peaks\n",
      "🎯 Assigned Adenosine-5'-diphosphate to 8 peaks\n",
      "🎯 Assigned Adenosine Phosphate to 8 peaks\n",
      "🎯 Assigned Adenosine Triphosphate to 8 peaks\n",
      " Loaded 8 chromatograms.\n",
      "🎯 Assigned Adenosine to 8 peaks\n",
      "🎯 Assigned Adenosine-5'-diphosphate to 8 peaks\n",
      "🎯 Assigned Adenosine Phosphate to 8 peaks\n",
      "🎯 Assigned Adenosine Triphosphate to 8 peaks\n"
     ]
    }
   ],
   "execution_count": 11,
   "source": [
    "# first set the path for your time samples each repetition shut be in a separate folder   \n",
    "all_reps = []\n",
    "data_path = \"data/MjNK/Time sample\"\n",
    "for path in os.listdir(data_path):\n",
    "        path = os.path.join(data_path, path)\n",
    "        all_reps.append(path)\n",
    "\n",
    "\n",
    "# need to define the initial concentrations of the molecules\n",
    "# therefore create a dictionary with the molecule ids as key and the initial concentration as value\n",
    "init_conc = {\n",
    "    \"Ado\": 5,\n",
    "    \"ADP\": 0,\n",
    "    \"AMP\": 0,\n",
    "    \"ATP\": 5,\n",
    "}\n",
    "# read the timecourse data\n",
    "for i, path in enumerate(all_reps):\n",
    "    analyzer = ChromAnalyzer.read_agilent(\n",
    "        path=path, ph=8, temperature=37, mode=\"timecourse\"\n",
    "    )\n",
    "\n",
    "    # add the calibration molecules to the timecourse data\n",
    "    for molecule in molecules:\n",
    "        analyzer.add_molecule(\n",
    "            molecule=molecule,\n",
    "            init_conc=init_conc[molecule.id],\n",
    "        )\n",
    "\n",
    "    # in the first iteration, create the enzymeML document\n",
    "    # concentration calculation is enabled by default\n",
    "    if i == 0:\n",
    "        timecourse_enzymeML = analyzer.to_enzymeml(name=\"timecourse data\")\n",
    "\n",
    "    # in the following iterations, add the data to the enzymeML document\n",
    "    else:\n",
    "        analyzer.add_to_enzymeml(timecourse_enzymeML)"
   ],
   "id": "9eccbfc7"
  },
  {
   "cell_type": "code",
   "id": "0d6d404c",
   "metadata": {},
   "source": "",
   "outputs": [],
   "execution_count": null
  },
  {
   "cell_type": "markdown",
   "id": "6426699f",
   "metadata": {},
   "source": [
    "## Get means and standard deviations among measurements with identical initial conditions"
   ]
  },
  {
   "cell_type": "code",
   "id": "f845acb0",
   "metadata": {
    "ExecuteTime": {
     "end_time": "2025-02-08T13:59:33.363712Z",
     "start_time": "2025-02-08T13:59:32.644016Z"
    }
   },
   "source": [
    "import matplotlib.pyplot as plt\n",
    "import numpy as np\n",
    "\n",
    "# Define colors for each molecule\n",
    "colors = {\n",
    "    \"Ado\": \"red\",\n",
    "    \"ADP\": \"blue\",\n",
    "    \"AMP\": \"green\",\n",
    "    \"ATP\": \"orange\",\n",
    "}\n",
    "\n",
    "# Initialize a dictionary to store time and data values for each molecule across measurements\n",
    "molecule_data = {species_id: {\"time\": [], \"data\": []} for species_id in colors.keys()}\n",
    "\n",
    "# Aggregate data for each molecule across all measurements\n",
    "for measurement in timecourse_enzymeML.measurements:\n",
    "    for molecule in measurement.species_data:\n",
    "        molecule_data[molecule.species_id][\"time\"].append(molecule.time)\n",
    "        molecule_data[molecule.species_id][\"data\"].append(molecule.data)\n",
    "\n",
    "# Plot mean and standard deviation for each molecule\n",
    "for species_id, data_dict in molecule_data.items():\n",
    "    # Convert lists of time and data to NumPy arrays for easier computation\n",
    "    times = np.array(data_dict[\"time\"])\n",
    "    data_values = np.array(data_dict[\"data\"])\n",
    "\n",
    "    # Calculate mean and standard deviation along the measurements axis\n",
    "    mean_time = np.mean(times, axis=0)\n",
    "    mean_data = np.mean(data_values, axis=0)\n",
    "    std_data = np.std(data_values, axis=0)\n",
    "\n",
    "    # Plot mean as scatter points with error bars for standard deviation\n",
    "    color = colors[species_id]\n",
    "    plt.errorbar(\n",
    "        mean_time,\n",
    "        mean_data,\n",
    "        yerr=std_data,\n",
    "        fmt=\"o\",\n",
    "        color=color,\n",
    "        label=species_id,\n",
    "        ecolor=color,\n",
    "        capsize=3,\n",
    "        markersize=5,\n",
    "        alpha=1,\n",
    "        zorder=5,\n",
    "        clip_on=False\n",
    "    )\n",
    "\n",
    "\n",
    "# Set y-axis to start at zero\n",
    "plt.ylim(bottom=0)\n",
    "plt.xlim(left=0)\n",
    "\n",
    "# Customize and show the legend\n",
    "handles, labels = plt.gca().get_legend_handles_labels()\n",
    "by_label = dict(zip(labels, handles))\n",
    "plt.xlabel(\"Time [min]\")\n",
    "plt.ylabel(\"Concentration [mM]\")\n",
    "plt.legend(by_label.values(), by_label.keys())\n",
    "plt.savefig('data/MjNK/results/Concentration_time_table.png')\n",
    "plt.show()\n",
    "\n"
   ],
   "outputs": [
    {
     "data": {
      "text/plain": [],
      "text/html": [
       "<pre style=\"white-space:pre;overflow-x:auto;line-height:normal;font-family:Menlo,'DejaVu Sans Mono',consolas,'Courier New',monospace\"></pre>\n"
      ]
     },
     "metadata": {},
     "output_type": "display_data"
    },
    {
     "data": {
      "text/plain": [
       "\u001B[1m<\u001B[0m\u001B[1;95mFigure\u001B[0m\u001B[39m size 64\u001B[0m\u001B[1;36m0x480\u001B[0m\u001B[39m with \u001B[0m\u001B[1;36m1\u001B[0m\u001B[39m Axes\u001B[0m\u001B[1m>\u001B[0m"
      ],
      "image/png": "[encoded data removed]"
     },
     "metadata": {},
     "output_type": "display_data"
    }
   ],
   "execution_count": 13
  },
  {
   "metadata": {
    "ExecuteTime": {
     "end_time": "2025-02-08T13:59:47.685279Z",
     "start_time": "2025-02-08T13:59:47.670228Z"
    }
   },
   "cell_type": "code",
   "source": [
    "# save the enzymeML document to file\n",
    "\n",
    "with open(\"timecourse_enzymeML.json\", \"w\") as f:\n",
    "    f.write(timecourse_enzymeML.model_dump_json())"
   ],
   "id": "878eec4fe254a300",
   "outputs": [],
   "execution_count": 14
  },
  {
   "metadata": {},
   "cell_type": "code",
   "outputs": [],
   "execution_count": null,
   "source": "",
   "id": "5fe31869ad5a5fa4"
  }
 ],
 "metadata": {
  "kernelspec": {
   "display_name": "chromatopy",
   "language": "python",
   "name": "python3"
  },
  "language_info": {
   "codemirror_mode": {
    "name": "ipython",
    "version": 3
   },
   "file_extension": ".py",
   "mimetype": "text/x-python",
   "name": "python",
   "nbconvert_exporter": "python",
   "pygments_lexer": "ipython3",
   "version": "3.12.4"
  }
 },
 "nbformat": 4,
 "nbformat_minor": 5
}
